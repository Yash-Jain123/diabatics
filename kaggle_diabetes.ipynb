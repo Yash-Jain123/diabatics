{
 "cells": [
  {
   "cell_type": "code",
   "execution_count": 1,
   "id": "04fe2d8d",
   "metadata": {},
   "outputs": [],
   "source": [
    "#classification algorithm(discrete values)\n",
    "import numpy as np\n",
    "import pandas as pd\n",
    "import seaborn as sb\n",
    "import matplotlib.pyplot as plt\n",
    "import warnings\n",
    "warnings.filterwarnings('ignore')"
   ]
  },
  {
   "cell_type": "code",
   "execution_count": 2,
   "id": "b749fc3b",
   "metadata": {},
   "outputs": [],
   "source": [
    "#to load the file\n",
    "df=pd.read_csv(\"kaggle_diabetes.csv\")"
   ]
  },
  {
   "cell_type": "code",
   "execution_count": 3,
   "id": "f8e2d909",
   "metadata": {},
   "outputs": [
    {
     "data": {
      "text/html": [
       "<div>\n",
       "<style scoped>\n",
       "    .dataframe tbody tr th:only-of-type {\n",
       "        vertical-align: middle;\n",
       "    }\n",
       "\n",
       "    .dataframe tbody tr th {\n",
       "        vertical-align: top;\n",
       "    }\n",
       "\n",
       "    .dataframe thead th {\n",
       "        text-align: right;\n",
       "    }\n",
       "</style>\n",
       "<table border=\"1\" class=\"dataframe\">\n",
       "  <thead>\n",
       "    <tr style=\"text-align: right;\">\n",
       "      <th></th>\n",
       "      <th>Pregnancies</th>\n",
       "      <th>Glucose</th>\n",
       "      <th>BloodPressure</th>\n",
       "      <th>SkinThickness</th>\n",
       "      <th>Insulin</th>\n",
       "      <th>BMI</th>\n",
       "      <th>DiabetesPedigreeFunction</th>\n",
       "      <th>Age</th>\n",
       "      <th>Outcome</th>\n",
       "    </tr>\n",
       "  </thead>\n",
       "  <tbody>\n",
       "    <tr>\n",
       "      <th>0</th>\n",
       "      <td>2</td>\n",
       "      <td>138</td>\n",
       "      <td>62</td>\n",
       "      <td>35</td>\n",
       "      <td>0</td>\n",
       "      <td>33.6</td>\n",
       "      <td>0.127</td>\n",
       "      <td>47</td>\n",
       "      <td>1</td>\n",
       "    </tr>\n",
       "    <tr>\n",
       "      <th>1</th>\n",
       "      <td>0</td>\n",
       "      <td>84</td>\n",
       "      <td>82</td>\n",
       "      <td>31</td>\n",
       "      <td>125</td>\n",
       "      <td>38.2</td>\n",
       "      <td>0.233</td>\n",
       "      <td>23</td>\n",
       "      <td>0</td>\n",
       "    </tr>\n",
       "    <tr>\n",
       "      <th>2</th>\n",
       "      <td>0</td>\n",
       "      <td>145</td>\n",
       "      <td>0</td>\n",
       "      <td>0</td>\n",
       "      <td>0</td>\n",
       "      <td>44.2</td>\n",
       "      <td>0.630</td>\n",
       "      <td>31</td>\n",
       "      <td>1</td>\n",
       "    </tr>\n",
       "    <tr>\n",
       "      <th>3</th>\n",
       "      <td>0</td>\n",
       "      <td>135</td>\n",
       "      <td>68</td>\n",
       "      <td>42</td>\n",
       "      <td>250</td>\n",
       "      <td>42.3</td>\n",
       "      <td>0.365</td>\n",
       "      <td>24</td>\n",
       "      <td>1</td>\n",
       "    </tr>\n",
       "    <tr>\n",
       "      <th>4</th>\n",
       "      <td>1</td>\n",
       "      <td>139</td>\n",
       "      <td>62</td>\n",
       "      <td>41</td>\n",
       "      <td>480</td>\n",
       "      <td>40.7</td>\n",
       "      <td>0.536</td>\n",
       "      <td>21</td>\n",
       "      <td>0</td>\n",
       "    </tr>\n",
       "  </tbody>\n",
       "</table>\n",
       "</div>"
      ],
      "text/plain": [
       "   Pregnancies  Glucose  BloodPressure  SkinThickness  Insulin   BMI  \\\n",
       "0            2      138             62             35        0  33.6   \n",
       "1            0       84             82             31      125  38.2   \n",
       "2            0      145              0              0        0  44.2   \n",
       "3            0      135             68             42      250  42.3   \n",
       "4            1      139             62             41      480  40.7   \n",
       "\n",
       "   DiabetesPedigreeFunction  Age  Outcome  \n",
       "0                     0.127   47        1  \n",
       "1                     0.233   23        0  \n",
       "2                     0.630   31        1  \n",
       "3                     0.365   24        1  \n",
       "4                     0.536   21        0  "
      ]
     },
     "execution_count": 3,
     "metadata": {},
     "output_type": "execute_result"
    }
   ],
   "source": [
    "#show first 5 records\n",
    "df.head()"
   ]
  },
  {
   "cell_type": "code",
   "execution_count": 4,
   "id": "f336158f",
   "metadata": {},
   "outputs": [
    {
     "name": "stdout",
     "output_type": "stream",
     "text": [
      "<class 'pandas.core.frame.DataFrame'>\n",
      "RangeIndex: 2000 entries, 0 to 1999\n",
      "Data columns (total 9 columns):\n",
      " #   Column                    Non-Null Count  Dtype  \n",
      "---  ------                    --------------  -----  \n",
      " 0   Pregnancies               2000 non-null   int64  \n",
      " 1   Glucose                   2000 non-null   int64  \n",
      " 2   BloodPressure             2000 non-null   int64  \n",
      " 3   SkinThickness             2000 non-null   int64  \n",
      " 4   Insulin                   2000 non-null   int64  \n",
      " 5   BMI                       2000 non-null   float64\n",
      " 6   DiabetesPedigreeFunction  2000 non-null   float64\n",
      " 7   Age                       2000 non-null   int64  \n",
      " 8   Outcome                   2000 non-null   int64  \n",
      "dtypes: float64(2), int64(7)\n",
      "memory usage: 140.8 KB\n"
     ]
    }
   ],
   "source": [
    "df.info()"
   ]
  },
  {
   "cell_type": "code",
   "execution_count": 5,
   "id": "d20420cb",
   "metadata": {},
   "outputs": [
    {
     "data": {
      "text/html": [
       "<div>\n",
       "<style scoped>\n",
       "    .dataframe tbody tr th:only-of-type {\n",
       "        vertical-align: middle;\n",
       "    }\n",
       "\n",
       "    .dataframe tbody tr th {\n",
       "        vertical-align: top;\n",
       "    }\n",
       "\n",
       "    .dataframe thead th {\n",
       "        text-align: right;\n",
       "    }\n",
       "</style>\n",
       "<table border=\"1\" class=\"dataframe\">\n",
       "  <thead>\n",
       "    <tr style=\"text-align: right;\">\n",
       "      <th></th>\n",
       "      <th>Pregnancies</th>\n",
       "      <th>Glucose</th>\n",
       "      <th>BloodPressure</th>\n",
       "      <th>SkinThickness</th>\n",
       "      <th>Insulin</th>\n",
       "      <th>BMI</th>\n",
       "      <th>DiabetesPedigreeFunction</th>\n",
       "      <th>Age</th>\n",
       "      <th>Outcome</th>\n",
       "    </tr>\n",
       "  </thead>\n",
       "  <tbody>\n",
       "    <tr>\n",
       "      <th>count</th>\n",
       "      <td>2000.000000</td>\n",
       "      <td>2000.000000</td>\n",
       "      <td>2000.000000</td>\n",
       "      <td>2000.000000</td>\n",
       "      <td>2000.000000</td>\n",
       "      <td>2000.000000</td>\n",
       "      <td>2000.000000</td>\n",
       "      <td>2000.000000</td>\n",
       "      <td>2000.000000</td>\n",
       "    </tr>\n",
       "    <tr>\n",
       "      <th>mean</th>\n",
       "      <td>3.703500</td>\n",
       "      <td>121.182500</td>\n",
       "      <td>69.145500</td>\n",
       "      <td>20.935000</td>\n",
       "      <td>80.254000</td>\n",
       "      <td>32.193000</td>\n",
       "      <td>0.470930</td>\n",
       "      <td>33.090500</td>\n",
       "      <td>0.342000</td>\n",
       "    </tr>\n",
       "    <tr>\n",
       "      <th>std</th>\n",
       "      <td>3.306063</td>\n",
       "      <td>32.068636</td>\n",
       "      <td>19.188315</td>\n",
       "      <td>16.103243</td>\n",
       "      <td>111.180534</td>\n",
       "      <td>8.149901</td>\n",
       "      <td>0.323553</td>\n",
       "      <td>11.786423</td>\n",
       "      <td>0.474498</td>\n",
       "    </tr>\n",
       "    <tr>\n",
       "      <th>min</th>\n",
       "      <td>0.000000</td>\n",
       "      <td>0.000000</td>\n",
       "      <td>0.000000</td>\n",
       "      <td>0.000000</td>\n",
       "      <td>0.000000</td>\n",
       "      <td>0.000000</td>\n",
       "      <td>0.078000</td>\n",
       "      <td>21.000000</td>\n",
       "      <td>0.000000</td>\n",
       "    </tr>\n",
       "    <tr>\n",
       "      <th>25%</th>\n",
       "      <td>1.000000</td>\n",
       "      <td>99.000000</td>\n",
       "      <td>63.500000</td>\n",
       "      <td>0.000000</td>\n",
       "      <td>0.000000</td>\n",
       "      <td>27.375000</td>\n",
       "      <td>0.244000</td>\n",
       "      <td>24.000000</td>\n",
       "      <td>0.000000</td>\n",
       "    </tr>\n",
       "    <tr>\n",
       "      <th>50%</th>\n",
       "      <td>3.000000</td>\n",
       "      <td>117.000000</td>\n",
       "      <td>72.000000</td>\n",
       "      <td>23.000000</td>\n",
       "      <td>40.000000</td>\n",
       "      <td>32.300000</td>\n",
       "      <td>0.376000</td>\n",
       "      <td>29.000000</td>\n",
       "      <td>0.000000</td>\n",
       "    </tr>\n",
       "    <tr>\n",
       "      <th>75%</th>\n",
       "      <td>6.000000</td>\n",
       "      <td>141.000000</td>\n",
       "      <td>80.000000</td>\n",
       "      <td>32.000000</td>\n",
       "      <td>130.000000</td>\n",
       "      <td>36.800000</td>\n",
       "      <td>0.624000</td>\n",
       "      <td>40.000000</td>\n",
       "      <td>1.000000</td>\n",
       "    </tr>\n",
       "    <tr>\n",
       "      <th>max</th>\n",
       "      <td>17.000000</td>\n",
       "      <td>199.000000</td>\n",
       "      <td>122.000000</td>\n",
       "      <td>110.000000</td>\n",
       "      <td>744.000000</td>\n",
       "      <td>80.600000</td>\n",
       "      <td>2.420000</td>\n",
       "      <td>81.000000</td>\n",
       "      <td>1.000000</td>\n",
       "    </tr>\n",
       "  </tbody>\n",
       "</table>\n",
       "</div>"
      ],
      "text/plain": [
       "       Pregnancies      Glucose  BloodPressure  SkinThickness      Insulin  \\\n",
       "count  2000.000000  2000.000000    2000.000000    2000.000000  2000.000000   \n",
       "mean      3.703500   121.182500      69.145500      20.935000    80.254000   \n",
       "std       3.306063    32.068636      19.188315      16.103243   111.180534   \n",
       "min       0.000000     0.000000       0.000000       0.000000     0.000000   \n",
       "25%       1.000000    99.000000      63.500000       0.000000     0.000000   \n",
       "50%       3.000000   117.000000      72.000000      23.000000    40.000000   \n",
       "75%       6.000000   141.000000      80.000000      32.000000   130.000000   \n",
       "max      17.000000   199.000000     122.000000     110.000000   744.000000   \n",
       "\n",
       "               BMI  DiabetesPedigreeFunction          Age      Outcome  \n",
       "count  2000.000000               2000.000000  2000.000000  2000.000000  \n",
       "mean     32.193000                  0.470930    33.090500     0.342000  \n",
       "std       8.149901                  0.323553    11.786423     0.474498  \n",
       "min       0.000000                  0.078000    21.000000     0.000000  \n",
       "25%      27.375000                  0.244000    24.000000     0.000000  \n",
       "50%      32.300000                  0.376000    29.000000     0.000000  \n",
       "75%      36.800000                  0.624000    40.000000     1.000000  \n",
       "max      80.600000                  2.420000    81.000000     1.000000  "
      ]
     },
     "execution_count": 5,
     "metadata": {},
     "output_type": "execute_result"
    }
   ],
   "source": [
    "df.describe()"
   ]
  },
  {
   "cell_type": "code",
   "execution_count": 6,
   "id": "651612be",
   "metadata": {},
   "outputs": [
    {
     "data": {
      "text/plain": [
       "Pregnancies                 0\n",
       "Glucose                     0\n",
       "BloodPressure               0\n",
       "SkinThickness               0\n",
       "Insulin                     0\n",
       "BMI                         0\n",
       "DiabetesPedigreeFunction    0\n",
       "Age                         0\n",
       "Outcome                     0\n",
       "dtype: int64"
      ]
     },
     "execution_count": 6,
     "metadata": {},
     "output_type": "execute_result"
    }
   ],
   "source": [
    "#to check the null values\n",
    "df.isnull().sum()"
   ]
  },
  {
   "cell_type": "code",
   "execution_count": 7,
   "id": "ddb2ea3d",
   "metadata": {},
   "outputs": [
    {
     "data": {
      "image/png": "[encoded data removed]",
      "text/plain": [
       "<Figure size 432x288 with 2 Axes>"
      ]
     },
     "metadata": {
      "needs_background": "light"
     },
     "output_type": "display_data"
    }
   ],
   "source": [
    "#to visualise the null values,use inbuilt function heatmap\n",
    "sb.heatmap(df.isnull())\n",
    "plt.show()"
   ]
  },
  {
   "cell_type": "code",
   "execution_count": 8,
   "id": "b60a2649",
   "metadata": {},
   "outputs": [
    {
     "data": {
      "text/plain": [
       "Pregnancies                   int64\n",
       "Glucose                       int64\n",
       "BloodPressure                 int64\n",
       "SkinThickness                 int64\n",
       "Insulin                       int64\n",
       "BMI                         float64\n",
       "DiabetesPedigreeFunction    float64\n",
       "Age                           int64\n",
       "Outcome                       int64\n",
       "dtype: object"
      ]
     },
     "execution_count": 8,
     "metadata": {},
     "output_type": "execute_result"
    }
   ],
   "source": [
    "#cross check\n",
    "#to check data types\n",
    "df.dtypes"
   ]
  },
  {
   "cell_type": "code",
   "execution_count": 9,
   "id": "e38d2066",
   "metadata": {},
   "outputs": [
    {
     "data": {
      "text/plain": [
       "1256"
      ]
     },
     "execution_count": 9,
     "metadata": {},
     "output_type": "execute_result"
    }
   ],
   "source": [
    "#to check duplicates values\n",
    "df.duplicated().sum()"
   ]
  },
  {
   "cell_type": "code",
   "execution_count": 10,
   "id": "28d10b41",
   "metadata": {},
   "outputs": [
    {
     "data": {
      "text/plain": [
       "(2000, 9)"
      ]
     },
     "execution_count": 10,
     "metadata": {},
     "output_type": "execute_result"
    }
   ],
   "source": [
    "#to check how many rows and columns\n",
    "df.shape"
   ]
  },
  {
   "cell_type": "code",
   "execution_count": 11,
   "id": "8dd37d48",
   "metadata": {},
   "outputs": [
    {
     "name": "stdout",
     "output_type": "stream",
     "text": [
      "0    1316\n",
      "1     684\n",
      "Name: Outcome, dtype: int64\n"
     ]
    },
    {
     "data": {
      "image/png": "[encoded data removed]",
      "text/plain": [
       "<Figure size 432x288 with 1 Axes>"
      ]
     },
     "metadata": {
      "needs_background": "light"
     },
     "output_type": "display_data"
    }
   ],
   "source": [
    "#check balance or unbalance \n",
    "#here target:Outcome\n",
    "#check categorical data use countplot\n",
    "sb.countplot(data=df,x='Outcome')\n",
    "f=df['Outcome'].value_counts()\n",
    "print(f)\n",
    "plt.yticks(f)\n",
    "plt.show()"
   ]
  },
  {
   "cell_type": "code",
   "execution_count": 12,
   "id": "461369cf",
   "metadata": {},
   "outputs": [],
   "source": [
    "#here dataset is balanced"
   ]
  },
  {
   "cell_type": "code",
   "execution_count": 13,
   "id": "21f67d18",
   "metadata": {},
   "outputs": [],
   "source": [
    "#to select input and output\n",
    "x=df.drop(\"Outcome\",axis=1)  #to select i/p\n",
    "y=df['Outcome']  #to select o/p"
   ]
  },
  {
   "cell_type": "code",
   "execution_count": 14,
   "id": "4adc42ad",
   "metadata": {},
   "outputs": [],
   "source": [
    "#call train_test_split\n",
    "from sklearn.model_selection import train_test_split"
   ]
  },
  {
   "cell_type": "code",
   "execution_count": 15,
   "id": "771823fc",
   "metadata": {},
   "outputs": [],
   "source": [
    "#train_test_split\n",
    "x_train,x_test,y_train,y_test=train_test_split(x,y,test_size=0.3,random_state=1)"
   ]
  },
  {
   "cell_type": "code",
   "execution_count": 16,
   "id": "da5e6113",
   "metadata": {},
   "outputs": [
    {
     "data": {
      "text/plain": [
       "(1400, 8)"
      ]
     },
     "execution_count": 16,
     "metadata": {},
     "output_type": "execute_result"
    }
   ],
   "source": [
    "x_train.shape"
   ]
  },
  {
   "cell_type": "code",
   "execution_count": 17,
   "id": "81e5f53b",
   "metadata": {},
   "outputs": [
    {
     "data": {
      "text/plain": [
       "(600, 8)"
      ]
     },
     "execution_count": 17,
     "metadata": {},
     "output_type": "execute_result"
    }
   ],
   "source": [
    "x_test.shape"
   ]
  },
  {
   "cell_type": "code",
   "execution_count": 18,
   "id": "32b8f554",
   "metadata": {},
   "outputs": [
    {
     "data": {
      "text/plain": [
       "(1400,)"
      ]
     },
     "execution_count": 18,
     "metadata": {},
     "output_type": "execute_result"
    }
   ],
   "source": [
    "y_train.shape"
   ]
  },
  {
   "cell_type": "code",
   "execution_count": 19,
   "id": "e088f38d",
   "metadata": {},
   "outputs": [
    {
     "data": {
      "text/plain": [
       "(600,)"
      ]
     },
     "execution_count": 19,
     "metadata": {},
     "output_type": "execute_result"
    }
   ],
   "source": [
    "y_test.shape"
   ]
  },
  {
   "cell_type": "code",
   "execution_count": 20,
   "id": "85898d91",
   "metadata": {},
   "outputs": [],
   "source": [
    "#apply scaling on x_train and x_test (only input)\n",
    "from sklearn.preprocessing import StandardScaler\n",
    "#create the object of St standardScaler class\n",
    "ss=StandardScaler()\n",
    "x_train=ss.fit_transform(x_train)\n",
    "x_test=ss.transform(x_test)"
   ]
  },
  {
   "cell_type": "code",
   "execution_count": 21,
   "id": "467e5afd",
   "metadata": {},
   "outputs": [],
   "source": [
    "#create user defined function\n",
    "def create_model(model):\n",
    "    model.fit(x_train,y_train)  #train the model with 70% data\n",
    "    y_pred=model.predict(x_test)  #train the model with 30% data\n",
    "    #generate report\n",
    "    print(classification_report(y_test,y_pred))\n",
    "    print(confusion_matrix(y_test,y_pred))\n",
    "    return model"
   ]
  },
  {
   "cell_type": "code",
   "execution_count": 22,
   "id": "fadb66ff",
   "metadata": {},
   "outputs": [],
   "source": [
    "from sklearn.metrics import classification_report,confusion_matrix"
   ]
  },
  {
   "cell_type": "markdown",
   "id": "1bbb2579",
   "metadata": {},
   "source": [
    "# LogisticRegression"
   ]
  },
  {
   "cell_type": "code",
   "execution_count": 23,
   "id": "5750ec5f",
   "metadata": {},
   "outputs": [],
   "source": [
    "from sklearn.linear_model import LogisticRegression"
   ]
  },
  {
   "cell_type": "code",
   "execution_count": 24,
   "id": "f7bda6fd",
   "metadata": {},
   "outputs": [],
   "source": [
    "#create the object of LogisticRegression class\n",
    "lr=LogisticRegression()"
   ]
  },
  {
   "cell_type": "code",
   "execution_count": 25,
   "id": "d5f90c96",
   "metadata": {},
   "outputs": [
    {
     "name": "stdout",
     "output_type": "stream",
     "text": [
      "              precision    recall  f1-score   support\n",
      "\n",
      "           0       0.82      0.88      0.85       404\n",
      "           1       0.71      0.61      0.66       196\n",
      "\n",
      "    accuracy                           0.79       600\n",
      "   macro avg       0.77      0.75      0.75       600\n",
      "weighted avg       0.79      0.79      0.79       600\n",
      "\n",
      "[[355  49]\n",
      " [ 76 120]]\n"
     ]
    }
   ],
   "source": [
    "#call function\n",
    "lr=create_model(lr)"
   ]
  },
  {
   "cell_type": "code",
   "execution_count": 26,
   "id": "671b27da",
   "metadata": {},
   "outputs": [],
   "source": [
    "#here recall is =0.61 (61%)"
   ]
  },
  {
   "cell_type": "markdown",
   "id": "4502b933",
   "metadata": {},
   "source": [
    "# DecisionTreeClassifier"
   ]
  },
  {
   "cell_type": "code",
   "execution_count": 27,
   "id": "aa961534",
   "metadata": {},
   "outputs": [],
   "source": [
    "#DecisionTreeClassifier with GINI INDEX "
   ]
  },
  {
   "cell_type": "code",
   "execution_count": 28,
   "id": "580ab128",
   "metadata": {},
   "outputs": [],
   "source": [
    "from sklearn.tree import DecisionTreeClassifier"
   ]
  },
  {
   "cell_type": "code",
   "execution_count": 29,
   "id": "a6a2701d",
   "metadata": {},
   "outputs": [],
   "source": [
    "#create the object of DecisionTreeClassifier class\n",
    "dt=DecisionTreeClassifier()"
   ]
  },
  {
   "cell_type": "code",
   "execution_count": 30,
   "id": "5b55f53a",
   "metadata": {},
   "outputs": [
    {
     "name": "stdout",
     "output_type": "stream",
     "text": [
      "              precision    recall  f1-score   support\n",
      "\n",
      "           0       0.97      0.94      0.95       404\n",
      "           1       0.88      0.94      0.91       196\n",
      "\n",
      "    accuracy                           0.94       600\n",
      "   macro avg       0.93      0.94      0.93       600\n",
      "weighted avg       0.94      0.94      0.94       600\n",
      "\n",
      "[[379  25]\n",
      " [ 11 185]]\n"
     ]
    }
   ],
   "source": [
    "#call function\n",
    "dt=create_model(dt)"
   ]
  },
  {
   "cell_type": "code",
   "execution_count": 31,
   "id": "6a6e2701",
   "metadata": {},
   "outputs": [],
   "source": [
    "#here recall is =0.94 (94%)"
   ]
  },
  {
   "cell_type": "markdown",
   "id": "04d4a0aa",
   "metadata": {},
   "source": [
    "# purning techniques"
   ]
  },
  {
   "cell_type": "code",
   "execution_count": 32,
   "id": "3a844468",
   "metadata": {},
   "outputs": [],
   "source": [
    "#Pruning Technique : max_depth  : the value of max_depth cannot more than\n",
    "#8  (means <=8) \n",
    "#create object of DecisionTreeClassifier class with gini index and \n",
    "#use parameter max_depth (to remove overfitting)"
   ]
  },
  {
   "cell_type": "code",
   "execution_count": 33,
   "id": "5ccebfb5",
   "metadata": {},
   "outputs": [
    {
     "data": {
      "text/plain": [
       "'for i in range(1,9):   #start=1 stop=9-1=8 step=1\\n    dt=DecisionTreeClassifier(random_state=1,max_depth=i)\\n    print(\"max_depth:\",i)\\n    dt=create_model(dt)'"
      ]
     },
     "execution_count": 33,
     "metadata": {},
     "output_type": "execute_result"
    }
   ],
   "source": [
    "\"\"\"for i in range(1,9):   #start=1 stop=9-1=8 step=1\n",
    "    dt=DecisionTreeClassifier(random_state=1,max_depth=i)\n",
    "    print(\"max_depth:\",i)\n",
    "    dt=create_model(dt)\"\"\""
   ]
  },
  {
   "cell_type": "code",
   "execution_count": 34,
   "id": "6b11ede2",
   "metadata": {},
   "outputs": [
    {
     "name": "stdout",
     "output_type": "stream",
     "text": [
      "              precision    recall  f1-score   support\n",
      "\n",
      "           0       0.89      0.81      0.85       404\n",
      "           1       0.67      0.79      0.73       196\n",
      "\n",
      "    accuracy                           0.81       600\n",
      "   macro avg       0.78      0.80      0.79       600\n",
      "weighted avg       0.82      0.81      0.81       600\n",
      "\n",
      "[[329  75]\n",
      " [ 41 155]]\n"
     ]
    }
   ],
   "source": [
    "dt=DecisionTreeClassifier(random_state=1,max_depth=5)\n",
    "dt=create_model(dt)"
   ]
  },
  {
   "cell_type": "code",
   "execution_count": 35,
   "id": "42d94a17",
   "metadata": {},
   "outputs": [],
   "source": [
    "#here recall value is 0.79(79%) "
   ]
  },
  {
   "cell_type": "markdown",
   "id": "7050d8a0",
   "metadata": {},
   "source": [
    "# 2nd purning technique"
   ]
  },
  {
   "cell_type": "code",
   "execution_count": 36,
   "id": "75a5fc38",
   "metadata": {},
   "outputs": [],
   "source": [
    "#2nd pruning technique:min_samples_leaf=it is used to reduce overfitting\n",
    "#create obj of DecisionTreeClassifier class \n",
    "#45-100"
   ]
  },
  {
   "cell_type": "code",
   "execution_count": 37,
   "id": "1ac50d13",
   "metadata": {},
   "outputs": [
    {
     "data": {
      "text/plain": [
       "'for i in range(45,101):   #start=45 stop=101-1=100 step=1\\n    dt=DecisionTreeClassifier(random_state=1,min_samples_leaf=i)\\n    print(\"min_samples_leaf:\",i)\\n    dt=create_model(dt)'"
      ]
     },
     "execution_count": 37,
     "metadata": {},
     "output_type": "execute_result"
    }
   ],
   "source": [
    "\"\"\"for i in range(45,101):   #start=45 stop=101-1=100 step=1\n",
    "    dt=DecisionTreeClassifier(random_state=1,min_samples_leaf=i)\n",
    "    print(\"min_samples_leaf:\",i)\n",
    "    dt=create_model(dt)\"\"\""
   ]
  },
  {
   "cell_type": "code",
   "execution_count": 38,
   "id": "879f1132",
   "metadata": {},
   "outputs": [
    {
     "name": "stdout",
     "output_type": "stream",
     "text": [
      "              precision    recall  f1-score   support\n",
      "\n",
      "           0       0.85      0.83      0.84       404\n",
      "           1       0.66      0.69      0.68       196\n",
      "\n",
      "    accuracy                           0.79       600\n",
      "   macro avg       0.76      0.76      0.76       600\n",
      "weighted avg       0.79      0.79      0.79       600\n",
      "\n",
      "[[335  69]\n",
      " [ 60 136]]\n"
     ]
    }
   ],
   "source": [
    "dt=DecisionTreeClassifier(random_state=1,min_samples_leaf=45)\n",
    "dt=create_model(dt)"
   ]
  },
  {
   "cell_type": "code",
   "execution_count": 39,
   "id": "6b9bd898",
   "metadata": {},
   "outputs": [],
   "source": [
    "#here recall is 0.69(69%)"
   ]
  },
  {
   "cell_type": "markdown",
   "id": "5713dbba",
   "metadata": {},
   "source": [
    "# DecisionTreeClassifier(Entropy)"
   ]
  },
  {
   "cell_type": "code",
   "execution_count": 40,
   "id": "a15f17b4",
   "metadata": {},
   "outputs": [],
   "source": [
    "#from sklearn.tree import DecisionTreeClassifier"
   ]
  },
  {
   "cell_type": "code",
   "execution_count": 41,
   "id": "6707dac6",
   "metadata": {},
   "outputs": [],
   "source": [
    "dt=DecisionTreeClassifier(random_state=1,criterion=\"entropy\")"
   ]
  },
  {
   "cell_type": "code",
   "execution_count": 42,
   "id": "4fb4b39e",
   "metadata": {},
   "outputs": [
    {
     "name": "stdout",
     "output_type": "stream",
     "text": [
      "              precision    recall  f1-score   support\n",
      "\n",
      "           0       0.98      0.93      0.95       404\n",
      "           1       0.87      0.96      0.91       196\n",
      "\n",
      "    accuracy                           0.94       600\n",
      "   macro avg       0.92      0.94      0.93       600\n",
      "weighted avg       0.94      0.94      0.94       600\n",
      "\n",
      "[[376  28]\n",
      " [  8 188]]\n"
     ]
    }
   ],
   "source": [
    "#call function\n",
    "dt=create_model(dt)"
   ]
  },
  {
   "cell_type": "code",
   "execution_count": 43,
   "id": "61684100",
   "metadata": {},
   "outputs": [],
   "source": [
    "#recall 0.96(96%)"
   ]
  },
  {
   "cell_type": "markdown",
   "id": "a336cc33",
   "metadata": {},
   "source": [
    "# purning technique"
   ]
  },
  {
   "cell_type": "code",
   "execution_count": 44,
   "id": "69b346e7",
   "metadata": {},
   "outputs": [],
   "source": [
    "#Pruning Technique : max_depth  : the value of max_depth cannot more than\n",
    "#8  (means <=8) \n",
    "#create object of DecisionTreeClassifier class with gini index and \n",
    "#use parameter max_depth (to remove overfitting)"
   ]
  },
  {
   "cell_type": "code",
   "execution_count": 45,
   "id": "a6d2fe1f",
   "metadata": {},
   "outputs": [
    {
     "data": {
      "text/plain": [
       "'for i in range(1,9):   #start=1 stop=9-1=8 step=1\\n    dt=DecisionTreeClassifier(random_state=1,max_depth=i,criterion=\"entropy\")\\n    print(\"max_depth:\",i)\\n    dt=create_model(dt)'"
      ]
     },
     "execution_count": 45,
     "metadata": {},
     "output_type": "execute_result"
    }
   ],
   "source": [
    "\"\"\"for i in range(1,9):   #start=1 stop=9-1=8 step=1\n",
    "    dt=DecisionTreeClassifier(random_state=1,max_depth=i,criterion=\"entropy\")\n",
    "    print(\"max_depth:\",i)\n",
    "    dt=create_model(dt)\"\"\""
   ]
  },
  {
   "cell_type": "code",
   "execution_count": 46,
   "id": "5c9182b7",
   "metadata": {},
   "outputs": [
    {
     "name": "stdout",
     "output_type": "stream",
     "text": [
      "              precision    recall  f1-score   support\n",
      "\n",
      "           0       0.92      0.80      0.86       404\n",
      "           1       0.68      0.86      0.76       196\n",
      "\n",
      "    accuracy                           0.82       600\n",
      "   macro avg       0.80      0.83      0.81       600\n",
      "weighted avg       0.84      0.82      0.83       600\n",
      "\n",
      "[[324  80]\n",
      " [ 27 169]]\n"
     ]
    }
   ],
   "source": [
    "dt=DecisionTreeClassifier(random_state=1,max_depth=8,criterion=\"entropy\")\n",
    "dt=create_model(dt)"
   ]
  },
  {
   "cell_type": "code",
   "execution_count": 47,
   "id": "3c1b9735",
   "metadata": {},
   "outputs": [],
   "source": [
    "#here recall 0.86(86%) "
   ]
  },
  {
   "cell_type": "markdown",
   "id": "ce52ba22",
   "metadata": {},
   "source": [
    "# 2nd purning technique"
   ]
  },
  {
   "cell_type": "code",
   "execution_count": 48,
   "id": "f06ddc18",
   "metadata": {},
   "outputs": [],
   "source": [
    "#2nd pruning technique:min_samples_leaf=it is used to reduce overfitting\n",
    "#create obj of DecisionTreeClassifier class \n",
    "#45-100"
   ]
  },
  {
   "cell_type": "code",
   "execution_count": 49,
   "id": "2e1ddb45",
   "metadata": {},
   "outputs": [
    {
     "data": {
      "text/plain": [
       "'for i in range(45,101):   #start=45 stop=101-1=100 step=1\\n    dt=DecisionTreeClassifier(random_state=1,min_samples_leaf=i,criterion=\"entropy\")\\n    print(\"min_samples_leaf:\",i)\\n    dt=create_model(dt)'"
      ]
     },
     "execution_count": 49,
     "metadata": {},
     "output_type": "execute_result"
    }
   ],
   "source": [
    "\"\"\"for i in range(45,101):   #start=45 stop=101-1=100 step=1\n",
    "    dt=DecisionTreeClassifier(random_state=1,min_samples_leaf=i,criterion=\"entropy\")\n",
    "    print(\"min_samples_leaf:\",i)\n",
    "    dt=create_model(dt)\"\"\""
   ]
  },
  {
   "cell_type": "code",
   "execution_count": 50,
   "id": "b97a5b14",
   "metadata": {},
   "outputs": [
    {
     "name": "stdout",
     "output_type": "stream",
     "text": [
      "              precision    recall  f1-score   support\n",
      "\n",
      "           0       0.87      0.80      0.83       404\n",
      "           1       0.64      0.74      0.69       196\n",
      "\n",
      "    accuracy                           0.78       600\n",
      "   macro avg       0.75      0.77      0.76       600\n",
      "weighted avg       0.79      0.78      0.78       600\n",
      "\n",
      "[[322  82]\n",
      " [ 50 146]]\n"
     ]
    }
   ],
   "source": [
    "dt=DecisionTreeClassifier(random_state=1,min_samples_leaf=74,criterion=\"entropy\")\n",
    "dt=create_model(dt)"
   ]
  },
  {
   "cell_type": "code",
   "execution_count": 51,
   "id": "3519847e",
   "metadata": {},
   "outputs": [],
   "source": [
    "#here recall is 0.74(74%)"
   ]
  },
  {
   "cell_type": "markdown",
   "id": "57c54dc9",
   "metadata": {},
   "source": [
    "# RandomForestClassifier"
   ]
  },
  {
   "cell_type": "code",
   "execution_count": 52,
   "id": "9ff4d5d3",
   "metadata": {},
   "outputs": [],
   "source": [
    "#Apply Random Forest Tree :It is Bootstraping Ensembling Technique\n",
    "#It is work with Bagging classifier Bootstraping Ensembling Technique\n",
    "#In RandomForestTree:Train the dataset on multiple DecisionTree Algo.\n",
    "#sklearn-package\n",
    "#Ensemble -outer class\n",
    "#RandomForestClassifier class -inner calss\n",
    "#fit()\n",
    "#predict()\n",
    "#ensemble means to train given dataset on multiple algo."
   ]
  },
  {
   "cell_type": "code",
   "execution_count": 53,
   "id": "49c30a9c",
   "metadata": {},
   "outputs": [],
   "source": [
    "from sklearn.ensemble import RandomForestClassifier"
   ]
  },
  {
   "cell_type": "code",
   "execution_count": 54,
   "id": "84684d9d",
   "metadata": {
    "scrolled": false
   },
   "outputs": [
    {
     "data": {
      "text/plain": [
       "'for i in range(10,101):    #start=10 stop=101-1=100 step=1 bydefault=10\\n    rfc=RandomForestClassifier(n_estimators=i,random_state=1)\\n    print(\"No. of decision tree:\",i)\\n    rfc=create_model(rfc)'"
      ]
     },
     "execution_count": 54,
     "metadata": {},
     "output_type": "execute_result"
    }
   ],
   "source": [
    "#create the object of RandomForestClassifier class\n",
    "\"\"\"for i in range(10,101):    #start=10 stop=101-1=100 step=1 bydefault=10\n",
    "    rfc=RandomForestClassifier(n_estimators=i,random_state=1)\n",
    "    print(\"No. of decision tree:\",i)\n",
    "    rfc=create_model(rfc)\"\"\""
   ]
  },
  {
   "cell_type": "code",
   "execution_count": 55,
   "id": "713c72cf",
   "metadata": {},
   "outputs": [
    {
     "name": "stdout",
     "output_type": "stream",
     "text": [
      "              precision    recall  f1-score   support\n",
      "\n",
      "           0       0.99      0.96      0.97       404\n",
      "           1       0.92      0.99      0.95       196\n",
      "\n",
      "    accuracy                           0.97       600\n",
      "   macro avg       0.95      0.97      0.96       600\n",
      "weighted avg       0.97      0.97      0.97       600\n",
      "\n",
      "[[386  18]\n",
      " [  2 194]]\n"
     ]
    }
   ],
   "source": [
    "rfc=RandomForestClassifier(n_estimators=11,random_state=1)\n",
    "rfc=create_model(rfc)"
   ]
  },
  {
   "cell_type": "code",
   "execution_count": 56,
   "id": "be45d29c",
   "metadata": {},
   "outputs": [],
   "source": [
    "#here recall 0.99%(99%)"
   ]
  },
  {
   "cell_type": "markdown",
   "id": "2a0ee237",
   "metadata": {},
   "source": [
    "# purning technique(gini index)"
   ]
  },
  {
   "cell_type": "code",
   "execution_count": 57,
   "id": "dc59335a",
   "metadata": {},
   "outputs": [],
   "source": [
    "#Pruning Technique : max_depth  : the value of max_depth cannot more than\n",
    "#8  (means <=8) \n",
    "#create object of DecisionTreeClassifier class with gini index and \n",
    "#use parameter max_depth (to remove overfitting)"
   ]
  },
  {
   "cell_type": "code",
   "execution_count": 58,
   "id": "a978bf5f",
   "metadata": {},
   "outputs": [
    {
     "data": {
      "text/plain": [
       "'for i in range(1,9):   #start=1 stop=9-1=8 step=1\\n    rfc1=RandomForestClassifier(n_estimators=11,random_state=1,max_depth=i)\\n    print(\"max_depth:\",i)\\n    rfc1=create_model(dt)'"
      ]
     },
     "execution_count": 58,
     "metadata": {},
     "output_type": "execute_result"
    }
   ],
   "source": [
    "\"\"\"for i in range(1,9):   #start=1 stop=9-1=8 step=1\n",
    "    rfc1=RandomForestClassifier(n_estimators=11,random_state=1,max_depth=i)\n",
    "    print(\"max_depth:\",i)\n",
    "    rfc1=create_model(dt)\"\"\""
   ]
  },
  {
   "cell_type": "code",
   "execution_count": 59,
   "id": "d3f6a920",
   "metadata": {},
   "outputs": [
    {
     "name": "stdout",
     "output_type": "stream",
     "text": [
      "              precision    recall  f1-score   support\n",
      "\n",
      "           0       0.87      0.80      0.83       404\n",
      "           1       0.64      0.74      0.69       196\n",
      "\n",
      "    accuracy                           0.78       600\n",
      "   macro avg       0.75      0.77      0.76       600\n",
      "weighted avg       0.79      0.78      0.78       600\n",
      "\n",
      "[[322  82]\n",
      " [ 50 146]]\n"
     ]
    }
   ],
   "source": [
    "rfc1=RandomForestClassifier(n_estimators=11,random_state=1,max_depth=1)\n",
    "rfc1=create_model(dt)"
   ]
  },
  {
   "cell_type": "code",
   "execution_count": 60,
   "id": "c41743a6",
   "metadata": {},
   "outputs": [],
   "source": [
    "#here recall 0.74(74%)"
   ]
  },
  {
   "cell_type": "markdown",
   "id": "48e639f8",
   "metadata": {},
   "source": [
    "# 2nd purning technique"
   ]
  },
  {
   "cell_type": "code",
   "execution_count": 61,
   "id": "565c79b2",
   "metadata": {},
   "outputs": [],
   "source": [
    "#2nd pruning technique:min_samples_leaf=it is used to reduce overfitting\n",
    "#create obj of DecisionTreeClassifier class \n",
    "#45-100"
   ]
  },
  {
   "cell_type": "code",
   "execution_count": 62,
   "id": "62f4308e",
   "metadata": {
    "scrolled": false
   },
   "outputs": [
    {
     "data": {
      "text/plain": [
       "'for i in range(45,101):   #start=45 stop=101-1=100 step=1\\n    rfc1=RandomForestClassifier(n_estimators=11,random_state=1,min_samples_leaf=i)\\n    print(\"min_samples_leaf:\",i)\\n    rfc1=create_model(rfc1)'"
      ]
     },
     "execution_count": 62,
     "metadata": {},
     "output_type": "execute_result"
    }
   ],
   "source": [
    "\"\"\"for i in range(45,101):   #start=45 stop=101-1=100 step=1\n",
    "    rfc1=RandomForestClassifier(n_estimators=11,random_state=1,min_samples_leaf=i)\n",
    "    print(\"min_samples_leaf:\",i)\n",
    "    rfc1=create_model(rfc1)\"\"\""
   ]
  },
  {
   "cell_type": "code",
   "execution_count": 63,
   "id": "4fabab85",
   "metadata": {},
   "outputs": [
    {
     "name": "stdout",
     "output_type": "stream",
     "text": [
      "              precision    recall  f1-score   support\n",
      "\n",
      "           0       0.84      0.84      0.84       404\n",
      "           1       0.67      0.68      0.68       196\n",
      "\n",
      "    accuracy                           0.79       600\n",
      "   macro avg       0.76      0.76      0.76       600\n",
      "weighted avg       0.79      0.79      0.79       600\n",
      "\n",
      "[[339  65]\n",
      " [ 63 133]]\n"
     ]
    }
   ],
   "source": [
    "rfc1=RandomForestClassifier(n_estimators=11,random_state=1,min_samples_leaf=59)\n",
    "rfc1=create_model(rfc1)"
   ]
  },
  {
   "cell_type": "code",
   "execution_count": 64,
   "id": "a338f3b6",
   "metadata": {},
   "outputs": [],
   "source": [
    "#here 0.68(68%)"
   ]
  },
  {
   "cell_type": "markdown",
   "id": "652e5cfc",
   "metadata": {},
   "source": [
    "# Boosting Technique"
   ]
  },
  {
   "cell_type": "code",
   "execution_count": 65,
   "id": "9ac7bffb",
   "metadata": {},
   "outputs": [],
   "source": [
    "#Apply Ensembling Technique Boosting\n",
    "#1.first apply ADA Boost: call inbuilt class AdaBoostClassifier\n",
    "#sklearn-package\n",
    "#ensemble -outer class\n",
    "#AdaBoostClassifier-inner class"
   ]
  },
  {
   "cell_type": "markdown",
   "id": "457d1492",
   "metadata": {},
   "source": [
    "1.Ada Boosting technique"
   ]
  },
  {
   "cell_type": "code",
   "execution_count": 66,
   "id": "d774894b",
   "metadata": {},
   "outputs": [],
   "source": [
    "from sklearn.ensemble import AdaBoostClassifier"
   ]
  },
  {
   "cell_type": "code",
   "execution_count": 67,
   "id": "d4a4ee17",
   "metadata": {},
   "outputs": [
    {
     "data": {
      "text/plain": [
       "\"for i in range(1,14):  #start=1 stop=14-1=13 step=1\\n    #create the object of AdaBoostClassifier class\\n    abc=AdaBoostClassifier(n_estimators=i,random_state=1)\\n    print('no. of estimators:',i)\\n    #call function\\n    abc=create_model(abc)\""
      ]
     },
     "execution_count": 67,
     "metadata": {},
     "output_type": "execute_result"
    }
   ],
   "source": [
    "\"\"\"for i in range(1,14):  #start=1 stop=14-1=13 step=1\n",
    "    #create the object of AdaBoostClassifier class\n",
    "    abc=AdaBoostClassifier(n_estimators=i,random_state=1)\n",
    "    print('no. of estimators:',i)\n",
    "    #call function\n",
    "    abc=create_model(abc)\"\"\""
   ]
  },
  {
   "cell_type": "code",
   "execution_count": 68,
   "id": "3daae12f",
   "metadata": {},
   "outputs": [
    {
     "name": "stdout",
     "output_type": "stream",
     "text": [
      "              precision    recall  f1-score   support\n",
      "\n",
      "           0       0.83      0.75      0.79       404\n",
      "           1       0.58      0.68      0.62       196\n",
      "\n",
      "    accuracy                           0.73       600\n",
      "   macro avg       0.70      0.72      0.71       600\n",
      "weighted avg       0.75      0.73      0.74       600\n",
      "\n",
      "[[305  99]\n",
      " [ 62 134]]\n"
     ]
    }
   ],
   "source": [
    "abc=AdaBoostClassifier(n_estimators=1,random_state=1)\n",
    "#call function\n",
    "abc=create_model(abc)"
   ]
  },
  {
   "cell_type": "code",
   "execution_count": 69,
   "id": "e2d3e2d1",
   "metadata": {},
   "outputs": [],
   "source": [
    "#here recall is 0.68(68%)"
   ]
  },
  {
   "cell_type": "markdown",
   "id": "990bc9a5",
   "metadata": {},
   "source": [
    "2. GRADIENT BOOSTING"
   ]
  },
  {
   "cell_type": "code",
   "execution_count": 70,
   "id": "8f2ba758",
   "metadata": {},
   "outputs": [],
   "source": [
    "#2. Gradient Boosting(GB) : - \n",
    "#Its basically focus on short comings error  means fully grown tree \n",
    "#error means residual =actual output-predicted output\n",
    "\n",
    "#2. gradient Boost technuique : second tech. of Boosting Ensembling \n",
    "#technique \n",
    "# GB  : - its create a fully grown tree.this algorithm is focus on \n",
    "#short comings \n",
    "#short comings means error"
   ]
  },
  {
   "cell_type": "code",
   "execution_count": 71,
   "id": "10bf6eda",
   "metadata": {},
   "outputs": [],
   "source": [
    "#call inbuilt class for gradient boosting:GradientBoostingClassifier\n",
    "from sklearn.ensemble import GradientBoostingClassifier"
   ]
  },
  {
   "cell_type": "code",
   "execution_count": 72,
   "id": "d6314294",
   "metadata": {
    "scrolled": false
   },
   "outputs": [
    {
     "data": {
      "text/plain": [
       "\"for i in range(10,101):  #start=10 stop=101-1=100 step=1\\n    #create the object of GradientBoostingClassifier class\\n    gbc=GradientBoostingClassifier(n_estimators=i,random_state=1)\\n    print('no. of estimators:',i)\\n    #call function\\n    gbc=create_model(gbc)\""
      ]
     },
     "execution_count": 72,
     "metadata": {},
     "output_type": "execute_result"
    }
   ],
   "source": [
    "\"\"\"for i in range(10,101):  #start=10 stop=101-1=100 step=1\n",
    "    #create the object of GradientBoostingClassifier class\n",
    "    gbc=GradientBoostingClassifier(n_estimators=i,random_state=1)\n",
    "    print('no. of estimators:',i)\n",
    "    #call function\n",
    "    gbc=create_model(gbc)\"\"\""
   ]
  },
  {
   "cell_type": "code",
   "execution_count": 73,
   "id": "9460d1d0",
   "metadata": {},
   "outputs": [
    {
     "name": "stdout",
     "output_type": "stream",
     "text": [
      "              precision    recall  f1-score   support\n",
      "\n",
      "           0       0.92      0.91      0.92       404\n",
      "           1       0.83      0.85      0.84       196\n",
      "\n",
      "    accuracy                           0.89       600\n",
      "   macro avg       0.88      0.88      0.88       600\n",
      "weighted avg       0.89      0.89      0.89       600\n",
      "\n",
      "[[369  35]\n",
      " [ 30 166]]\n"
     ]
    }
   ],
   "source": [
    "gbc=GradientBoostingClassifier(n_estimators=96,random_state=1)\n",
    "gbc=create_model(gbc)"
   ]
  },
  {
   "cell_type": "code",
   "execution_count": 74,
   "id": "db4dee76",
   "metadata": {},
   "outputs": [],
   "source": [
    "#here recall is 0.85(85%)"
   ]
  },
  {
   "cell_type": "markdown",
   "id": "87ebddc0",
   "metadata": {},
   "source": [
    "3.EXTREME GRADIENT BOOSTING (XGB)"
   ]
  },
  {
   "cell_type": "code",
   "execution_count": 75,
   "id": "d5202f4e",
   "metadata": {},
   "outputs": [],
   "source": [
    "#3. Extreame Gradient Boosting  : 3rd technique of Boosting \n",
    "#This is better version of gradient boosting . . short form XGB \n",
    "#why call better version of Gradient Boosting : -\n",
    "#1. XG Bossting use : - Multithreading technique\n",
    "#2. It takes less memory space and faster \n",
    "#3. It is very useful to handle huge amt of data .Its deal large amount of data\n",
    "#4. Its handle outlier because have inbuilt capability\n",
    "#5. Its handle null values \n",
    "#6. Its handle automatic overfitting situation ."
   ]
  },
  {
   "cell_type": "code",
   "execution_count": 76,
   "id": "f2212634",
   "metadata": {},
   "outputs": [],
   "source": [
    "#Call inbuilt class:XGBClassifier\n",
    "#inbuilt package xgboost\n",
    "#first time install xgboost on system\n",
    "#!pip install xgboost"
   ]
  },
  {
   "cell_type": "code",
   "execution_count": 77,
   "id": "4c28057e",
   "metadata": {},
   "outputs": [],
   "source": [
    "from xgboost import XGBClassifier"
   ]
  },
  {
   "cell_type": "code",
   "execution_count": 78,
   "id": "fb575785",
   "metadata": {
    "scrolled": false
   },
   "outputs": [
    {
     "data": {
      "text/plain": [
       "\"for i in range(10,101):  #start=10 step=101-1=100 step=1\\n    #create the objrct of GradientBoostingClassifier class\\n    xgc=XGBClassifier(n_estimators=i,reg_alpha=1,random_state=1)\\n    #reg_alpha=1 means yes\\n    print('no. of estimators:',i)\\n    #call function\\n    xgc=create_model(xgc)\""
      ]
     },
     "execution_count": 78,
     "metadata": {},
     "output_type": "execute_result"
    }
   ],
   "source": [
    "\"\"\"for i in range(10,101):  #start=10 step=101-1=100 step=1\n",
    "    #create the objrct of GradientBoostingClassifier class\n",
    "    xgc=XGBClassifier(n_estimators=i,reg_alpha=1,random_state=1)\n",
    "    #reg_alpha=1 means yes\n",
    "    print('no. of estimators:',i)\n",
    "    #call function\n",
    "    xgc=create_model(xgc)\"\"\""
   ]
  },
  {
   "cell_type": "code",
   "execution_count": 79,
   "id": "ea413c65",
   "metadata": {},
   "outputs": [
    {
     "name": "stdout",
     "output_type": "stream",
     "text": [
      "              precision    recall  f1-score   support\n",
      "\n",
      "           0       0.98      0.96      0.97       404\n",
      "           1       0.92      0.95      0.94       196\n",
      "\n",
      "    accuracy                           0.96       600\n",
      "   macro avg       0.95      0.96      0.95       600\n",
      "weighted avg       0.96      0.96      0.96       600\n",
      "\n",
      "[[388  16]\n",
      " [  9 187]]\n"
     ]
    }
   ],
   "source": [
    "xgc=XGBClassifier(n_estimators=54,reg_alpha=1,random_state=1)\n",
    "xgc=create_model(xgc)"
   ]
  },
  {
   "cell_type": "code",
   "execution_count": 80,
   "id": "26d20b4b",
   "metadata": {},
   "outputs": [],
   "source": [
    "#here recall is 0.95(95%)"
   ]
  },
  {
   "cell_type": "markdown",
   "id": "f6dd7fd1",
   "metadata": {},
   "source": [
    "# Support Vector Machine"
   ]
  },
  {
   "cell_type": "markdown",
   "id": "a05235cb",
   "metadata": {},
   "source": [
    "1.linear kernal function of SVM "
   ]
  },
  {
   "cell_type": "code",
   "execution_count": 81,
   "id": "8e165a00",
   "metadata": {},
   "outputs": [],
   "source": [
    "#give data in support vector machine\n",
    "#1.linear kernal function of SVM:\n",
    "#means suppose data are linear separatable with the help of straight line\n",
    "#call inbuilt class for linear SVM:LinearSVC\n",
    "#SVC means support vector classifier\n",
    "#sklearn=package\n",
    "#svm-outer class\n",
    "#LinearSVC -inner class\n",
    "#fit()\n",
    "#predict()\n",
    "from sklearn.svm import LinearSVC"
   ]
  },
  {
   "cell_type": "code",
   "execution_count": 82,
   "id": "5cd525ab",
   "metadata": {},
   "outputs": [],
   "source": [
    "#create the object of LinearSVC class\n",
    "svc=LinearSVC(random_state=1)#no add any error means suppose no outlier in our \n",
    "#dataset means it is hard margin"
   ]
  },
  {
   "cell_type": "code",
   "execution_count": 83,
   "id": "09ebde59",
   "metadata": {},
   "outputs": [
    {
     "name": "stdout",
     "output_type": "stream",
     "text": [
      "              precision    recall  f1-score   support\n",
      "\n",
      "           0       0.82      0.88      0.85       404\n",
      "           1       0.70      0.60      0.65       196\n",
      "\n",
      "    accuracy                           0.79       600\n",
      "   macro avg       0.76      0.74      0.75       600\n",
      "weighted avg       0.78      0.79      0.78       600\n",
      "\n",
      "[[355  49]\n",
      " [ 79 117]]\n"
     ]
    }
   ],
   "source": [
    "#call function\n",
    "svc=create_model(svc)"
   ]
  },
  {
   "cell_type": "code",
   "execution_count": 84,
   "id": "2d77f880",
   "metadata": {},
   "outputs": [],
   "source": [
    "#here recall is 0.60(60%)"
   ]
  },
  {
   "cell_type": "markdown",
   "id": "3dae7a60",
   "metadata": {},
   "source": [
    "2.polynomial"
   ]
  },
  {
   "cell_type": "code",
   "execution_count": 85,
   "id": "2415b700",
   "metadata": {},
   "outputs": [],
   "source": [
    "#call inbuilt class SVC\n",
    "from sklearn.svm import SVC"
   ]
  },
  {
   "cell_type": "code",
   "execution_count": 86,
   "id": "560cc7ae",
   "metadata": {},
   "outputs": [],
   "source": [
    "#CREATE OBJ of SVC class(use polynomial)\n",
    "poly_svc=SVC(random_state=1,kernel='poly')"
   ]
  },
  {
   "cell_type": "code",
   "execution_count": 87,
   "id": "03c808c3",
   "metadata": {},
   "outputs": [
    {
     "name": "stdout",
     "output_type": "stream",
     "text": [
      "              precision    recall  f1-score   support\n",
      "\n",
      "           0       0.81      0.95      0.87       404\n",
      "           1       0.83      0.54      0.65       196\n",
      "\n",
      "    accuracy                           0.81       600\n",
      "   macro avg       0.82      0.74      0.76       600\n",
      "weighted avg       0.82      0.81      0.80       600\n",
      "\n",
      "[[383  21]\n",
      " [ 91 105]]\n"
     ]
    }
   ],
   "source": [
    "#call function\n",
    "poly_svc=create_model(poly_svc)"
   ]
  },
  {
   "cell_type": "code",
   "execution_count": 88,
   "id": "9b302410",
   "metadata": {},
   "outputs": [],
   "source": [
    "#here recall is 0.54%(54%)"
   ]
  },
  {
   "cell_type": "markdown",
   "id": "3cca7dee",
   "metadata": {},
   "source": [
    "3.radial"
   ]
  },
  {
   "cell_type": "code",
   "execution_count": 89,
   "id": "a473218e",
   "metadata": {},
   "outputs": [],
   "source": [
    "#CREATE OBJ of SVC class(use radial) :value of kernal =rbf\n",
    "#rbf=radial basic function\n",
    "r_svc=SVC(random_state=1,kernel='rbf')"
   ]
  },
  {
   "cell_type": "code",
   "execution_count": 90,
   "id": "47abd559",
   "metadata": {},
   "outputs": [
    {
     "name": "stdout",
     "output_type": "stream",
     "text": [
      "              precision    recall  f1-score   support\n",
      "\n",
      "           0       0.86      0.90      0.88       404\n",
      "           1       0.77      0.71      0.74       196\n",
      "\n",
      "    accuracy                           0.83       600\n",
      "   macro avg       0.82      0.80      0.81       600\n",
      "weighted avg       0.83      0.83      0.83       600\n",
      "\n",
      "[[362  42]\n",
      " [ 57 139]]\n"
     ]
    }
   ],
   "source": [
    "#call function\n",
    "r_svc=create_model(r_svc)"
   ]
  },
  {
   "cell_type": "code",
   "execution_count": 91,
   "id": "1e9124d5",
   "metadata": {},
   "outputs": [],
   "source": [
    "#here recall is 0.71%(71%)"
   ]
  },
  {
   "cell_type": "markdown",
   "id": "ab5e8007",
   "metadata": {},
   "source": [
    "# KNN Algorithm"
   ]
  },
  {
   "cell_type": "code",
   "execution_count": 92,
   "id": "fa568983",
   "metadata": {},
   "outputs": [],
   "source": [
    "#Apply KNN Algorithm: inbuilt class KNeighboursClassifier which definer in outer class nrighbours and \n",
    "#outer class define in package sklearn\n",
    "from sklearn.neighbors import KNeighborsClassifier\n",
    "#create the objecrt of KNeighboursClassifier class and passing some parameters\n",
    "knc=KNeighborsClassifier(n_neighbors=3,metric=\"minkowski\",p=2)\n",
    "#p=2 means Euclidean distance method"
   ]
  },
  {
   "cell_type": "code",
   "execution_count": 93,
   "id": "b3dd75bb",
   "metadata": {},
   "outputs": [
    {
     "name": "stdout",
     "output_type": "stream",
     "text": [
      "              precision    recall  f1-score   support\n",
      "\n",
      "           0       0.89      0.86      0.87       404\n",
      "           1       0.73      0.78      0.75       196\n",
      "\n",
      "    accuracy                           0.83       600\n",
      "   macro avg       0.81      0.82      0.81       600\n",
      "weighted avg       0.84      0.83      0.83       600\n",
      "\n",
      "[[347  57]\n",
      " [ 43 153]]\n"
     ]
    }
   ],
   "source": [
    "#call function\n",
    "knc=create_model(knc)\n",
    "#recall 0.78(78%)"
   ]
  },
  {
   "cell_type": "code",
   "execution_count": 94,
   "id": "0c9e07d5",
   "metadata": {},
   "outputs": [],
   "source": [
    "#here recall is 0.78(78%)"
   ]
  },
  {
   "cell_type": "markdown",
   "id": "c793a418",
   "metadata": {},
   "source": [
    "# Naive Bayes Theorem"
   ]
  },
  {
   "cell_type": "code",
   "execution_count": 95,
   "id": "e33a73f3",
   "metadata": {},
   "outputs": [],
   "source": [
    "#Apply Naive Bayes Theorem\n",
    "from sklearn.naive_bayes import GaussianNB\n",
    "#inbuilt class GaussianNB"
   ]
  },
  {
   "cell_type": "code",
   "execution_count": 96,
   "id": "46875519",
   "metadata": {},
   "outputs": [],
   "source": [
    "#creater ther object of GaussianNB class\n",
    "gnb=GaussianNB()"
   ]
  },
  {
   "cell_type": "code",
   "execution_count": 97,
   "id": "383fe0bb",
   "metadata": {},
   "outputs": [
    {
     "name": "stdout",
     "output_type": "stream",
     "text": [
      "              precision    recall  f1-score   support\n",
      "\n",
      "           0       0.83      0.83      0.83       404\n",
      "           1       0.65      0.65      0.65       196\n",
      "\n",
      "    accuracy                           0.77       600\n",
      "   macro avg       0.74      0.74      0.74       600\n",
      "weighted avg       0.77      0.77      0.77       600\n",
      "\n",
      "[[337  67]\n",
      " [ 69 127]]\n"
     ]
    }
   ],
   "source": [
    "#call function\n",
    "gnb=create_model(gnb)"
   ]
  },
  {
   "cell_type": "code",
   "execution_count": null,
   "id": "5e821bfb",
   "metadata": {},
   "outputs": [],
   "source": [
    "#here recall is 0.65(65%)"
   ]
  },
  {
   "cell_type": "code",
   "execution_count": null,
   "id": "ef4a0696",
   "metadata": {},
   "outputs": [],
   "source": []
  },
  {
   "cell_type": "markdown",
   "id": "1e61ad5a",
   "metadata": {},
   "source": [
    "# CONCLUSION"
   ]
  },
  {
   "cell_type": "markdown",
   "id": "45395fd1",
   "metadata": {},
   "source": [
    "LogisticRegression"
   ]
  },
  {
   "cell_type": "code",
   "execution_count": 98,
   "id": "45ce529e",
   "metadata": {},
   "outputs": [],
   "source": [
    "#recall is =0.61 (61%)"
   ]
  },
  {
   "cell_type": "markdown",
   "id": "2cc1dd68",
   "metadata": {},
   "source": [
    "DecisionTreeClassifier with GINI INDEX "
   ]
  },
  {
   "cell_type": "code",
   "execution_count": 99,
   "id": "03d84f00",
   "metadata": {},
   "outputs": [],
   "source": [
    "#recall is =0.94 (94%)"
   ]
  },
  {
   "cell_type": "markdown",
   "id": "5f5a3e41",
   "metadata": {},
   "source": [
    "Pruning Technique : max_depth"
   ]
  },
  {
   "cell_type": "code",
   "execution_count": 100,
   "id": "c654b822",
   "metadata": {},
   "outputs": [],
   "source": [
    "#here recall value is 0.79(79%) "
   ]
  },
  {
   "cell_type": "markdown",
   "id": "2907f408",
   "metadata": {},
   "source": [
    "2nd Pruning Technique : min_samples_leaf"
   ]
  },
  {
   "cell_type": "code",
   "execution_count": 101,
   "id": "23d29864",
   "metadata": {},
   "outputs": [],
   "source": [
    "#here recall is 0.69(69%)"
   ]
  },
  {
   "cell_type": "markdown",
   "id": "62462148",
   "metadata": {},
   "source": [
    "DecisionTreeClassifier with entropy"
   ]
  },
  {
   "cell_type": "code",
   "execution_count": 102,
   "id": "800b8a68",
   "metadata": {},
   "outputs": [],
   "source": [
    "#recall 0.96(96%)"
   ]
  },
  {
   "cell_type": "markdown",
   "id": "c4539dfb",
   "metadata": {},
   "source": [
    "Pruning Technique : max_depth"
   ]
  },
  {
   "cell_type": "code",
   "execution_count": 103,
   "id": "f04fb088",
   "metadata": {},
   "outputs": [],
   "source": [
    "#here recall 0.86(86%) "
   ]
  },
  {
   "cell_type": "markdown",
   "id": "ddd34e5d",
   "metadata": {},
   "source": [
    "2nd Pruning Technique : min_samples_leaf"
   ]
  },
  {
   "cell_type": "code",
   "execution_count": 104,
   "id": "c714190a",
   "metadata": {},
   "outputs": [],
   "source": [
    "#here recall is 0.74(74%)"
   ]
  },
  {
   "cell_type": "markdown",
   "id": "9b07cdc7",
   "metadata": {},
   "source": [
    "# RandomForestClassifier"
   ]
  },
  {
   "cell_type": "markdown",
   "id": "8322ad9b",
   "metadata": {},
   "source": [
    "# here recall 0.99%(99%)"
   ]
  },
  {
   "cell_type": "markdown",
   "id": "146f5e98",
   "metadata": {},
   "source": [
    "Pruning Technique : max_depth"
   ]
  },
  {
   "cell_type": "code",
   "execution_count": 105,
   "id": "38023f1a",
   "metadata": {},
   "outputs": [],
   "source": [
    "#here recall 0.74(74%)"
   ]
  },
  {
   "cell_type": "markdown",
   "id": "21719f6a",
   "metadata": {},
   "source": [
    "2nd Pruning Technique : min_samples_leaf"
   ]
  },
  {
   "cell_type": "code",
   "execution_count": 106,
   "id": "1c3dd858",
   "metadata": {},
   "outputs": [],
   "source": [
    "#here 0.68(68%)"
   ]
  },
  {
   "cell_type": "markdown",
   "id": "8f069e8f",
   "metadata": {},
   "source": [
    "Boosting Technique"
   ]
  },
  {
   "cell_type": "markdown",
   "id": "d9ed74cb",
   "metadata": {},
   "source": [
    "1.Ada Boosting technique"
   ]
  },
  {
   "cell_type": "code",
   "execution_count": 107,
   "id": "04801316",
   "metadata": {},
   "outputs": [],
   "source": [
    "#here recall is 0.68(68%)"
   ]
  },
  {
   "cell_type": "markdown",
   "id": "4938762c",
   "metadata": {},
   "source": [
    "2. GRADIENT BOOSTING"
   ]
  },
  {
   "cell_type": "code",
   "execution_count": 108,
   "id": "c2b67133",
   "metadata": {},
   "outputs": [],
   "source": [
    "#here recall is 0.85(85%)"
   ]
  },
  {
   "cell_type": "markdown",
   "id": "34e0e69f",
   "metadata": {},
   "source": [
    "3.EXTREME GRADIENT BOOSTING (XGB)"
   ]
  },
  {
   "cell_type": "code",
   "execution_count": 109,
   "id": "df1b7c0a",
   "metadata": {},
   "outputs": [],
   "source": [
    "#here recall is 0.95(95%)"
   ]
  },
  {
   "cell_type": "markdown",
   "id": "9613c672",
   "metadata": {},
   "source": [
    "Support Vector Machine"
   ]
  },
  {
   "cell_type": "markdown",
   "id": "125f1100",
   "metadata": {},
   "source": [
    "1.linear kernal function of SVM "
   ]
  },
  {
   "cell_type": "code",
   "execution_count": 110,
   "id": "61cfb7ad",
   "metadata": {},
   "outputs": [],
   "source": [
    "#here recall is 0.60(60%)"
   ]
  },
  {
   "cell_type": "markdown",
   "id": "13daa2ec",
   "metadata": {},
   "source": [
    "2.polynomial"
   ]
  },
  {
   "cell_type": "code",
   "execution_count": 111,
   "id": "68b28bc4",
   "metadata": {},
   "outputs": [],
   "source": [
    "#here recall is 0.54%(54%)"
   ]
  },
  {
   "cell_type": "markdown",
   "id": "2b178087",
   "metadata": {},
   "source": [
    "3.radial"
   ]
  },
  {
   "cell_type": "code",
   "execution_count": 112,
   "id": "10486934",
   "metadata": {},
   "outputs": [],
   "source": [
    "#here recall is 0.71%(71%)"
   ]
  },
  {
   "cell_type": "markdown",
   "id": "eaf5490e",
   "metadata": {},
   "source": [
    "KNN Algorithm"
   ]
  },
  {
   "cell_type": "code",
   "execution_count": 113,
   "id": "16ace913",
   "metadata": {},
   "outputs": [],
   "source": [
    "#here recall is 0.78(78%)"
   ]
  },
  {
   "cell_type": "markdown",
   "id": "92550bc5",
   "metadata": {},
   "source": [
    "Naive Bayes Theorem"
   ]
  },
  {
   "cell_type": "code",
   "execution_count": null,
   "id": "1de42dc3",
   "metadata": {},
   "outputs": [],
   "source": [
    "#here recall is 0.65(65%)"
   ]
  }
 ],
 "metadata": {
  "kernelspec": {
   "display_name": "Python 3 (ipykernel)",
   "language": "python",
   "name": "python3"
  },
  "language_info": {
   "codemirror_mode": {
    "name": "ipython",
    "version": 3
   },
   "file_extension": ".py",
   "mimetype": "text/x-python",
   "name": "python",
   "nbconvert_exporter": "python",
   "pygments_lexer": "ipython3",
   "version": "3.9.12"
  }
 },
 "nbformat": 4,
 "nbformat_minor": 5
}
